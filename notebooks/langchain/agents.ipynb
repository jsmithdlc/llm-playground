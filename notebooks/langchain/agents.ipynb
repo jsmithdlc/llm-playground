{
  "cells": [
    {
      "cell_type": "code",
      "source": [
        "!pip install -qU langchain-openai langchain_community langgraph"
      ],
      "metadata": {
        "id": "Hgj1aApO86EW",
        "outputId": "afac63bb-f7c8-4b8d-df6a-b51ad94f3974",
        "colab": {
          "base_uri": "https://localhost:8080/"
        }
      },
      "id": "Hgj1aApO86EW",
      "execution_count": 3,
      "outputs": [
        {
          "output_type": "stream",
          "name": "stdout",
          "text": [
            "\u001b[?25l   \u001b[90m━━━━━━━━━━━━━━━━━━━━━━━━━━━━━━━━━━━━━━━━\u001b[0m \u001b[32m0.0/2.5 MB\u001b[0m \u001b[31m?\u001b[0m eta \u001b[36m-:--:--\u001b[0m\r\u001b[2K   \u001b[91m━━━━━━━━━━━\u001b[0m\u001b[90m╺\u001b[0m\u001b[90m━━━━━━━━━━━━━━━━━━━━━━━━━━━━\u001b[0m \u001b[32m0.7/2.5 MB\u001b[0m \u001b[31m21.3 MB/s\u001b[0m eta \u001b[36m0:00:01\u001b[0m\r\u001b[2K   \u001b[91m━━━━━━━━━━━━━━━━━━━━━━━━━━━━━━━━━━━━━━━\u001b[0m\u001b[91m╸\u001b[0m \u001b[32m2.5/2.5 MB\u001b[0m \u001b[31m45.4 MB/s\u001b[0m eta \u001b[36m0:00:01\u001b[0m\r\u001b[2K   \u001b[90m━━━━━━━━━━━━━━━━━━━━━━━━━━━━━━━━━━━━━━━━\u001b[0m \u001b[32m2.5/2.5 MB\u001b[0m \u001b[31m33.2 MB/s\u001b[0m eta \u001b[36m0:00:00\u001b[0m\n",
            "\u001b[2K   \u001b[90m━━━━━━━━━━━━━━━━━━━━━━━━━━━━━━━━━━━━━━━━\u001b[0m \u001b[32m136.5/136.5 kB\u001b[0m \u001b[31m9.5 MB/s\u001b[0m eta \u001b[36m0:00:00\u001b[0m\n",
            "\u001b[2K   \u001b[90m━━━━━━━━━━━━━━━━━━━━━━━━━━━━━━━━━━━━━━━━\u001b[0m \u001b[32m1.0/1.0 MB\u001b[0m \u001b[31m34.9 MB/s\u001b[0m eta \u001b[36m0:00:00\u001b[0m\n",
            "\u001b[2K   \u001b[90m━━━━━━━━━━━━━━━━━━━━━━━━━━━━━━━━━━━━━━━━\u001b[0m \u001b[32m41.2/41.2 kB\u001b[0m \u001b[31m2.7 MB/s\u001b[0m eta \u001b[36m0:00:00\u001b[0m\n",
            "\u001b[2K   \u001b[90m━━━━━━━━━━━━━━━━━━━━━━━━━━━━━━━━━━━━━━━━\u001b[0m \u001b[32m46.5/46.5 kB\u001b[0m \u001b[31m3.5 MB/s\u001b[0m eta \u001b[36m0:00:00\u001b[0m\n",
            "\u001b[2K   \u001b[90m━━━━━━━━━━━━━━━━━━━━━━━━━━━━━━━━━━━━━━━━\u001b[0m \u001b[32m50.9/50.9 kB\u001b[0m \u001b[31m3.6 MB/s\u001b[0m eta \u001b[36m0:00:00\u001b[0m\n",
            "\u001b[?25h"
          ]
        }
      ]
    },
    {
      "cell_type": "code",
      "source": [
        "import os\n",
        "import getpass\n",
        "\n",
        "os.environ[\"OPENAI_API_KEY\"] = getpass.getpass(prompt = \"OPENAI Key:\")\n"
      ],
      "metadata": {
        "id": "3bki5efw9SyE",
        "outputId": "918a3ad4-8563-4161-a16f-2a7096c72cc6",
        "colab": {
          "base_uri": "https://localhost:8080/"
        }
      },
      "id": "3bki5efw9SyE",
      "execution_count": 2,
      "outputs": [
        {
          "name": "stdout",
          "output_type": "stream",
          "text": [
            "OPENAI Key:··········\n"
          ]
        }
      ]
    },
    {
      "cell_type": "code",
      "source": [
        "os.environ[\"TAVILY_API_KEY\"] = getpass.getpass(prompt = \"Tavily api key:\")"
      ],
      "metadata": {
        "id": "JZXNjyhx-io_",
        "outputId": "144aa610-64bf-43ca-f313-7bea6276d93e",
        "colab": {
          "base_uri": "https://localhost:8080/"
        }
      },
      "id": "JZXNjyhx-io_",
      "execution_count": 5,
      "outputs": [
        {
          "name": "stdout",
          "output_type": "stream",
          "text": [
            "Tavily api key:··········\n"
          ]
        }
      ]
    },
    {
      "cell_type": "markdown",
      "id": "1df78a71",
      "metadata": {
        "id": "1df78a71"
      },
      "source": [
        "# Build an Agent\n",
        "\n",
        "By themselves, language models can't take actions - they just output text.\n",
        "A big use case for LangChain is creating **agents**.\n",
        "[Agents](/docs/concepts/agents) are systems that use [LLMs](/docs/concepts/chat_models) as reasoning engines to determine which actions to take and the inputs necessary to perform the action.\n",
        "After executing actions, the results can be fed back into the LLM to determine whether more actions are needed, or whether it is okay to finish. This is often achieved via [tool-calling](/docs/concepts/tool_calling).\n",
        "\n",
        "In this tutorial we will build an agent that can interact with a search engine. You will be able to ask this agent questions, watch it call the search tool, and have conversations with it.\n",
        "\n",
        "## End-to-end agent\n",
        "\n",
        "The code snippet below represents a fully functional agent that uses an LLM to decide which tools to use. It is equipped with a generic search tool. It has conversational memory - meaning that it can be used as a multi-turn chatbot.\n",
        "\n",
        "In the rest of the guide, we will walk through the individual components and what each part does - but if you want to just grab some code and get started, feel free to use this!"
      ]
    },
    {
      "cell_type": "code",
      "execution_count": 6,
      "id": "86d9386b-442f-4cd6-a78f-57c88249d3f0",
      "metadata": {
        "id": "86d9386b-442f-4cd6-a78f-57c88249d3f0"
      },
      "outputs": [],
      "source": [
        "# Import relevant functionality\n",
        "from langchain_openai import ChatOpenAI\n",
        "from langchain_community.tools.tavily_search import TavilySearchResults\n",
        "from langchain_core.messages import HumanMessage\n",
        "from langgraph.checkpoint.memory import MemorySaver\n",
        "from langgraph.prebuilt import create_react_agent\n",
        "\n",
        "# Create the agent\n",
        "memory = MemorySaver()\n",
        "model = ChatOpenAI(model_name=\"gpt-4o-mini\")\n",
        "search = TavilySearchResults(max_results=2)\n",
        "tools = [search]\n",
        "agent_executor = create_react_agent(model, tools, checkpointer=memory)"
      ]
    },
    {
      "cell_type": "code",
      "execution_count": 9,
      "id": "7ab50503-d09f-4ff4-9080-5afe297ccc38",
      "metadata": {
        "id": "7ab50503-d09f-4ff4-9080-5afe297ccc38",
        "outputId": "64eff8eb-d9f1-4fc2-94ac-e1ff9ceddebc",
        "colab": {
          "base_uri": "https://localhost:8080/"
        }
      },
      "outputs": [
        {
          "output_type": "stream",
          "name": "stdout",
          "text": [
            "================================\u001b[1m Human Message \u001b[0m=================================\n",
            "\n",
            "hi im bob! and i live in Santiago\n",
            "==================================\u001b[1m Ai Message \u001b[0m==================================\n",
            "\n",
            "Hi Bob! Nice to meet you! How's life in Santiago? If you need any information or assistance, feel free to ask!\n"
          ]
        }
      ],
      "source": [
        "# Use the agent\n",
        "config = {\"configurable\": {\"thread_id\": \"abc123\"}}\n",
        "for step in agent_executor.stream(\n",
        "    {\"messages\": [HumanMessage(content=\"hi im bob! and i live in Santiago\")]},\n",
        "    config,\n",
        "    stream_mode=\"values\",\n",
        "):\n",
        "    step[\"messages\"][-1].pretty_print()"
      ]
    },
    {
      "cell_type": "code",
      "execution_count": 10,
      "id": "fcadb699-3787-4028-a5f6-e5605c8118d4",
      "metadata": {
        "id": "fcadb699-3787-4028-a5f6-e5605c8118d4",
        "outputId": "adbf7c7b-c0fa-4bd4-944b-bcbb336b8609",
        "colab": {
          "base_uri": "https://localhost:8080/"
        }
      },
      "outputs": [
        {
          "output_type": "stream",
          "name": "stdout",
          "text": [
            "================================\u001b[1m Human Message \u001b[0m=================================\n",
            "\n",
            "whats the weather where I live?\n",
            "==================================\u001b[1m Ai Message \u001b[0m==================================\n",
            "Tool Calls:\n",
            "  tavily_search_results_json (call_4uQnLj1oxcJXoudU7B20sEux)\n",
            " Call ID: call_4uQnLj1oxcJXoudU7B20sEux\n",
            "  Args:\n",
            "    query: Santiago Chile weather\n",
            "=================================\u001b[1m Tool Message \u001b[0m=================================\n",
            "Name: tavily_search_results_json\n",
            "\n",
            "[{\"title\": \"Santiago weather in March 2025 - Meteoprog.com\", \"url\": \"https://www.meteoprog.com/weather/Santiago/month/march/\", \"content\": \"Santiago (Chile) weather in March 2025 ☀️ Accurate weather forecast for Santiago in ... 23 Mar. +27°+15°. 24 Mar. +27°+15°. 25 Mar. +27°+15°. 26 Mar. +27°+15°. 27\", \"score\": 0.9344013}, {\"title\": \"Weather Santiago in March 2025: Temperature & Climate\", \"url\": \"https://en.climate-data.org/south-america/chile/region-metropolitana-de-santiago/santiago-938/t/march-3/\", \"content\": \"Santiago weather in March // weather averages ; 22. March, 19 °C | 67 °F · 26 °C | 78 °F ; 23. March, 20 °C | 68 °F · 26 °C | 79 °F ; 24. March, 20 °C | 68 °F · 26 °C\", \"score\": 0.82125594}]\n",
            "==================================\u001b[1m Ai Message \u001b[0m==================================\n",
            "\n",
            "The current weather in Santiago, Chile is:\n",
            "\n",
            "- **Temperature:** Approximately 68°F (20°C)\n",
            "- **Forecast:** Expecting a high of around 79°F (26°C) and a low of 68°F (20°C).\n",
            "\n",
            "It looks like a warm day ahead! If you need more details or a forecast, just let me know!\n"
          ]
        }
      ],
      "source": [
        "for step in agent_executor.stream(\n",
        "    {\"messages\": [HumanMessage(content=\"whats the weather where I live?\")]},\n",
        "    config,\n",
        "    stream_mode=\"values\",\n",
        "):\n",
        "    step[\"messages\"][-1].pretty_print()"
      ]
    },
    {
      "cell_type": "markdown",
      "id": "f4c03f40-1328-412d-8a48-1db0cd481b77",
      "metadata": {
        "id": "f4c03f40-1328-412d-8a48-1db0cd481b77"
      },
      "source": [
        "## Setup\n",
        "\n",
        "### Jupyter Notebook\n",
        "\n",
        "This guide (and most of the other guides in the documentation) uses [Jupyter notebooks](https://jupyter.org/) and assumes the reader is as well. Jupyter notebooks are perfect interactive environments for learning how to work with LLM systems because oftentimes things can go wrong (unexpected output, API down, etc), and observing these cases is a great way to better understand building with LLMs.\n",
        "\n",
        "This and other tutorials are perhaps most conveniently run in a Jupyter notebook. See [here](https://jupyter.org/install) for instructions on how to install.\n",
        "\n",
        "### Installation\n",
        "\n",
        "To install LangChain run:"
      ]
    },
    {
      "cell_type": "code",
      "execution_count": null,
      "id": "60bb3eb1",
      "metadata": {
        "id": "60bb3eb1"
      },
      "outputs": [],
      "source": [
        "%pip install -U langchain-community langgraph langchain-anthropic tavily-python langgraph-checkpoint-sqlite"
      ]
    },
    {
      "cell_type": "markdown",
      "id": "2ee337ae",
      "metadata": {
        "id": "2ee337ae"
      },
      "source": [
        "For more details, see our [Installation guide](/docs/how_to/installation).\n",
        "\n",
        "### LangSmith\n",
        "\n",
        "Many of the applications you build with LangChain will contain multiple steps with multiple invocations of LLM calls.\n",
        "As these applications get more and more complex, it becomes crucial to be able to inspect what exactly is going on inside your chain or agent.\n",
        "The best way to do this is with [LangSmith](https://smith.langchain.com).\n",
        "\n",
        "After you sign up at the link above, make sure to set your environment variables to start logging traces:\n",
        "\n",
        "```shell\n",
        "export LANGSMITH_TRACING=\"true\"\n",
        "export LANGSMITH_API_KEY=\"...\"\n",
        "```\n",
        "\n",
        "Or, if in a notebook, you can set them with:\n",
        "\n",
        "```python\n",
        "import getpass\n",
        "import os\n",
        "\n",
        "os.environ[\"LANGSMITH_TRACING\"] = \"true\"\n",
        "os.environ[\"LANGSMITH_API_KEY\"] = getpass.getpass()\n",
        "```\n",
        "\n",
        "### Tavily\n",
        "\n",
        "We will be using [Tavily](/docs/integrations/tools/tavily_search) (a search engine) as a tool.\n",
        "In order to use it, you will need to get and set an API key:\n",
        "\n",
        "```bash\n",
        "export TAVILY_API_KEY=\"...\"\n",
        "```\n",
        "\n",
        "Or, if in a notebook, you can set it with:\n",
        "\n",
        "```python\n",
        "import getpass\n",
        "import os\n",
        "\n",
        "os.environ[\"TAVILY_API_KEY\"] = getpass.getpass()\n",
        "```"
      ]
    },
    {
      "cell_type": "markdown",
      "id": "c335d1bf",
      "metadata": {
        "id": "c335d1bf"
      },
      "source": [
        "## Define tools\n",
        "\n",
        "We first need to create the tools we want to use. Our main tool of choice will be [Tavily](/docs/integrations/tools/tavily_search) - a search engine. We have a built-in tool in LangChain to easily use Tavily search engine as tool.\n"
      ]
    },
    {
      "cell_type": "code",
      "execution_count": 11,
      "id": "002e23b1-fdf9-46e9-82d9-f467abdd3f35",
      "metadata": {
        "id": "002e23b1-fdf9-46e9-82d9-f467abdd3f35",
        "outputId": "8abbbc26-8e56-473e-83de-482ddbcd72ab",
        "colab": {
          "base_uri": "https://localhost:8080/"
        }
      },
      "outputs": [
        {
          "output_type": "stream",
          "name": "stdout",
          "text": [
            "[{'title': 'Weather in San Francisco', 'url': 'https://www.weatherapi.com/', 'content': \"{'location': {'name': 'San Francisco', 'region': 'California', 'country': 'United States of America', 'lat': 37.775, 'lon': -122.4183, 'tz_id': 'America/Los_Angeles', 'localtime_epoch': 1742763218, 'localtime': '2025-03-23 13:53'}, 'current': {'last_updated_epoch': 1742762700, 'last_updated': '2025-03-23 13:45', 'temp_c': 12.1, 'temp_f': 53.8, 'is_day': 1, 'condition': {'text': 'Mist', 'icon': '//cdn.weatherapi.com/weather/64x64/day/143.png', 'code': 1030}, 'wind_mph': 2.2, 'wind_kph': 3.6, 'wind_degree': 305, 'wind_dir': 'NW', 'pressure_mb': 1021.0, 'pressure_in': 30.16, 'precip_mm': 0.0, 'precip_in': 0.0, 'humidity': 100, 'cloud': 75, 'feelslike_c': 12.6, 'feelslike_f': 54.6, 'windchill_c': 10.5, 'windchill_f': 50.8, 'heatindex_c': 10.9, 'heatindex_f': 51.6, 'dewpoint_c': 10.0, 'dewpoint_f': 50.1, 'vis_km': 8.0, 'vis_miles': 4.0, 'uv': 6.1, 'gust_mph': 3.1, 'gust_kph': 4.9}}\", 'score': 0.9771712}, {'title': 'Sunday, March 23, 2025. San Francisco, CA - Weather Forecast', 'url': 'https://weathershogun.com/weather/usa/ca/san-francisco/480/march/2025-03-23', 'content': \"Sunday, March 23, 2025. San Francisco, CA - Weather Forecast\\n☰\\nSan Francisco, CA\\n\\nHome Contact Browse States Privacy Policy Terms and Conditions\\n°F)°C)\\n❮\\nToday Tomorrow Hourly 7 days 30 days March\\n❯\\nSan Francisco, California Weather:\\nBeach Hazards Statement (Potential hazards at beaches, such as dangerous currents, high surf, or unexpected waves.)\\nSunday, March 23, 2025\\nDay 66°\\nNight 48°\\nPrecipitation 0 %\\nWind 8 mph\\nUV Index (0 - 11+) 5\\nMonday\\n\\nHourly\\nToday\\nTomorrow\\n7 days\\n30 days [...] Weather Forecast History\\nLast Year's Weather on This Day (March 23, 2024)\\nDay\\n59°\\nNight\\n52°\\nPlease note that while we strive for accuracy, the information provided may not always be correct. Use at your own risk.\\n© Copyright by WeatherShogun.com\", 'score': 0.8851974444318182}]\n"
          ]
        }
      ],
      "source": [
        "from langchain_community.tools.tavily_search import TavilySearchResults\n",
        "\n",
        "search = TavilySearchResults(max_results=2)\n",
        "search_results = search.invoke(\"what is the weather in SF\")\n",
        "print(search_results)\n",
        "# If we want, we can create other tools.\n",
        "# Once we have all the tools we want, we can put them in a list that we will reference later.\n",
        "tools = [search]"
      ]
    },
    {
      "cell_type": "markdown",
      "id": "e00068b0",
      "metadata": {
        "id": "e00068b0"
      },
      "source": [
        "## Using Language Models\n",
        "\n",
        "Next, let's learn how to use a language model to call tools. LangChain supports many different language models that you can use interchangably - select the one you want to use below!\n",
        "\n",
        "import ChatModelTabs from \"@theme/ChatModelTabs\";\n",
        "\n",
        "<ChatModelTabs overrideParams={{openai: {model: \"gpt-4\"}}} />\n"
      ]
    },
    {
      "cell_type": "code",
      "execution_count": 14,
      "id": "69185491",
      "metadata": {
        "id": "69185491"
      },
      "outputs": [],
      "source": [
        "# | output: false\n",
        "# | echo: false\n",
        "\n",
        "from langchain_openai import ChatOpenAI\n",
        "\n",
        "model = ChatOpenAI(model=\"gpt-4o-mini\")"
      ]
    },
    {
      "cell_type": "markdown",
      "id": "642ed8bf",
      "metadata": {
        "id": "642ed8bf"
      },
      "source": [
        "You can call the language model by passing in a list of messages. By default, the response is a `content` string."
      ]
    },
    {
      "cell_type": "code",
      "execution_count": 15,
      "id": "c96c960b",
      "metadata": {
        "id": "c96c960b",
        "outputId": "ec54396b-10a5-4f12-85d2-702198471d58",
        "colab": {
          "base_uri": "https://localhost:8080/",
          "height": 35
        }
      },
      "outputs": [
        {
          "output_type": "execute_result",
          "data": {
            "text/plain": [
              "'Hello! How can I assist you today?'"
            ],
            "application/vnd.google.colaboratory.intrinsic+json": {
              "type": "string"
            }
          },
          "metadata": {},
          "execution_count": 15
        }
      ],
      "source": [
        "from langchain_core.messages import HumanMessage\n",
        "\n",
        "response = model.invoke([HumanMessage(content=\"hi!\")])\n",
        "response.content"
      ]
    },
    {
      "cell_type": "markdown",
      "id": "47bf8210",
      "metadata": {
        "id": "47bf8210"
      },
      "source": [
        "We can now see what it is like to enable this model to do tool calling. In order to enable that we use `.bind_tools` to give the language model knowledge of these tools"
      ]
    },
    {
      "cell_type": "code",
      "execution_count": 16,
      "id": "ba692a74",
      "metadata": {
        "id": "ba692a74"
      },
      "outputs": [],
      "source": [
        "model_with_tools = model.bind_tools(tools)"
      ]
    },
    {
      "cell_type": "markdown",
      "id": "fd920b69",
      "metadata": {
        "id": "fd920b69"
      },
      "source": [
        "We can now call the model. Let's first call it with a normal message, and see how it responds. We can look at both the `content` field as well as the `tool_calls` field."
      ]
    },
    {
      "cell_type": "code",
      "execution_count": 17,
      "id": "b6a7e925",
      "metadata": {
        "id": "b6a7e925",
        "outputId": "5387d4f5-bcae-4258-874e-bacf54124298",
        "colab": {
          "base_uri": "https://localhost:8080/"
        }
      },
      "outputs": [
        {
          "output_type": "stream",
          "name": "stdout",
          "text": [
            "ContentString: Hello! How can I assist you today?\n",
            "ToolCalls: []\n"
          ]
        }
      ],
      "source": [
        "response = model_with_tools.invoke([HumanMessage(content=\"Hi!\")])\n",
        "\n",
        "print(f\"ContentString: {response.content}\")\n",
        "print(f\"ToolCalls: {response.tool_calls}\")"
      ]
    },
    {
      "cell_type": "markdown",
      "id": "e8c81e76",
      "metadata": {
        "id": "e8c81e76"
      },
      "source": [
        "Now, let's try calling it with some input that would expect a tool to be called."
      ]
    },
    {
      "cell_type": "code",
      "execution_count": 18,
      "id": "688b465d",
      "metadata": {
        "id": "688b465d",
        "outputId": "54e812bc-029d-4d3a-e328-1932af3d6fa7",
        "colab": {
          "base_uri": "https://localhost:8080/"
        }
      },
      "outputs": [
        {
          "output_type": "stream",
          "name": "stdout",
          "text": [
            "ContentString: \n",
            "ToolCalls: [{'name': 'tavily_search_results_json', 'args': {'query': 'current weather in San Francisco'}, 'id': 'call_ohFRYP7T3szEhGNUiQc06U5N', 'type': 'tool_call'}]\n"
          ]
        }
      ],
      "source": [
        "response = model_with_tools.invoke([HumanMessage(content=\"What's the weather in SF?\")])\n",
        "\n",
        "print(f\"ContentString: {response.content}\")\n",
        "print(f\"ToolCalls: {response.tool_calls}\")"
      ]
    },
    {
      "cell_type": "markdown",
      "id": "83c4bcd3",
      "metadata": {
        "id": "83c4bcd3"
      },
      "source": [
        "We can see that there's now no text content, but there is a tool call! It wants us to call the Tavily Search tool.\n",
        "\n",
        "This isn't calling that tool yet - it's just telling us to. In order to actually call it, we'll want to create our agent."
      ]
    },
    {
      "cell_type": "markdown",
      "id": "40ccec80",
      "metadata": {
        "id": "40ccec80"
      },
      "source": [
        "## Create the agent\n",
        "\n",
        "Now that we have defined the tools and the LLM, we can create the agent. We will be using [LangGraph](/docs/concepts/architecture/#langgraph) to construct the agent.\n",
        "Currently, we are using a high level interface to construct the agent, but the nice thing about LangGraph is that this high-level interface is backed by a low-level, highly controllable API in case you want to modify the agent logic.\n"
      ]
    },
    {
      "cell_type": "markdown",
      "id": "f8014c9d",
      "metadata": {
        "id": "f8014c9d"
      },
      "source": [
        "Now, we can initialize the agent with the LLM and the tools.\n",
        "\n",
        "Note that we are passing in the `model`, not `model_with_tools`. That is because `create_react_agent` will call `.bind_tools` for us under the hood."
      ]
    },
    {
      "cell_type": "code",
      "execution_count": 19,
      "id": "89cf72b4-6046-4b47-8f27-5522d8cb8036",
      "metadata": {
        "id": "89cf72b4-6046-4b47-8f27-5522d8cb8036"
      },
      "outputs": [],
      "source": [
        "from langgraph.prebuilt import create_react_agent\n",
        "\n",
        "agent_executor = create_react_agent(model, tools)"
      ]
    },
    {
      "cell_type": "markdown",
      "id": "e4df0e06",
      "metadata": {
        "id": "e4df0e06"
      },
      "source": [
        "## Run the agent\n",
        "\n",
        "We can now run the agent with a few queries! Note that for now, these are all **stateless** queries (it won't remember previous interactions). Note that the agent will return the **final** state at the end of the interaction (which includes any inputs, we will see later on how to get only the outputs).\n",
        "\n",
        "First up, let's see how it responds when there's no need to call a tool:"
      ]
    },
    {
      "cell_type": "code",
      "execution_count": 20,
      "id": "114ba50d",
      "metadata": {
        "id": "114ba50d",
        "outputId": "29b5c8ca-0a3c-4a76-931e-90ee9cc397a0",
        "colab": {
          "base_uri": "https://localhost:8080/"
        }
      },
      "outputs": [
        {
          "output_type": "execute_result",
          "data": {
            "text/plain": [
              "[HumanMessage(content='hi!', additional_kwargs={}, response_metadata={}, id='de5e5ca6-b790-48ce-9ecb-31f9f53d361c'),\n",
              " AIMessage(content='Hello! How can I assist you today?', additional_kwargs={'refusal': None}, response_metadata={'token_usage': {'completion_tokens': 11, 'prompt_tokens': 81, 'total_tokens': 92, 'completion_tokens_details': {'accepted_prediction_tokens': 0, 'audio_tokens': 0, 'reasoning_tokens': 0, 'rejected_prediction_tokens': 0}, 'prompt_tokens_details': {'audio_tokens': 0, 'cached_tokens': 0}}, 'model_name': 'gpt-4o-mini-2024-07-18', 'system_fingerprint': 'fp_b8bc95a0ac', 'id': 'chatcmpl-BENWYS5tEAapOx8qlB5cYRRy3Xyco', 'finish_reason': 'stop', 'logprobs': None}, id='run-1b56dbf6-9e35-480b-a952-7212d747ef06-0', usage_metadata={'input_tokens': 81, 'output_tokens': 11, 'total_tokens': 92, 'input_token_details': {'audio': 0, 'cache_read': 0}, 'output_token_details': {'audio': 0, 'reasoning': 0}})]"
            ]
          },
          "metadata": {},
          "execution_count": 20
        }
      ],
      "source": [
        "response = agent_executor.invoke({\"messages\": [HumanMessage(content=\"hi!\")]})\n",
        "\n",
        "response[\"messages\"]"
      ]
    },
    {
      "cell_type": "markdown",
      "id": "71493a42",
      "metadata": {
        "id": "71493a42"
      },
      "source": [
        "In order to see exactly what is happening under the hood (and to make sure it's not calling a tool) we can take a look at the [LangSmith trace](https://smith.langchain.com/public/28311faa-e135-4d6a-ab6b-caecf6482aaa/r)\n",
        "\n",
        "Let's now try it out on an example where it should be invoking the tool"
      ]
    },
    {
      "cell_type": "code",
      "execution_count": 21,
      "id": "77c2f769",
      "metadata": {
        "id": "77c2f769",
        "outputId": "cfdd96e1-1094-4c9a-8ee8-900701d8ef2d",
        "colab": {
          "base_uri": "https://localhost:8080/"
        }
      },
      "outputs": [
        {
          "output_type": "execute_result",
          "data": {
            "text/plain": [
              "[HumanMessage(content='whats the weather in sf?', additional_kwargs={}, response_metadata={}, id='8ba0fdbb-59fc-40ef-9bf5-6fbbab2f94b6'),\n",
              " AIMessage(content='', additional_kwargs={'tool_calls': [{'id': 'call_4mLvsMylbm4BeGN3eY6zXHY9', 'function': {'arguments': '{\"query\":\"current weather in San Francisco\"}', 'name': 'tavily_search_results_json'}, 'type': 'function'}], 'refusal': None}, response_metadata={'token_usage': {'completion_tokens': 23, 'prompt_tokens': 86, 'total_tokens': 109, 'completion_tokens_details': {'accepted_prediction_tokens': 0, 'audio_tokens': 0, 'reasoning_tokens': 0, 'rejected_prediction_tokens': 0}, 'prompt_tokens_details': {'audio_tokens': 0, 'cached_tokens': 0}}, 'model_name': 'gpt-4o-mini-2024-07-18', 'system_fingerprint': 'fp_b8bc95a0ac', 'id': 'chatcmpl-BENWehEt2dUKXvH49iWfugcKbFrte', 'finish_reason': 'tool_calls', 'logprobs': None}, id='run-b79d0721-9878-4ced-9027-294c0bf4fd23-0', tool_calls=[{'name': 'tavily_search_results_json', 'args': {'query': 'current weather in San Francisco'}, 'id': 'call_4mLvsMylbm4BeGN3eY6zXHY9', 'type': 'tool_call'}], usage_metadata={'input_tokens': 86, 'output_tokens': 23, 'total_tokens': 109, 'input_token_details': {'audio': 0, 'cache_read': 0}, 'output_token_details': {'audio': 0, 'reasoning': 0}}),\n",
              " ToolMessage(content='[{\"title\": \"Weather in San Francisco\", \"url\": \"https://www.weatherapi.com/\", \"content\": \"{\\'location\\': {\\'name\\': \\'San Francisco\\', \\'region\\': \\'California\\', \\'country\\': \\'United States of America\\', \\'lat\\': 37.775, \\'lon\\': -122.4183, \\'tz_id\\': \\'America/Los_Angeles\\', \\'localtime_epoch\\': 1742766723, \\'localtime\\': \\'2025-03-23 14:52\\'}, \\'current\\': {\\'last_updated_epoch\\': 1742766300, \\'last_updated\\': \\'2025-03-23 14:45\\', \\'temp_c\\': 13.0, \\'temp_f\\': 55.4, \\'is_day\\': 1, \\'condition\\': {\\'text\\': \\'Mist\\', \\'icon\\': \\'//cdn.weatherapi.com/weather/64x64/day/143.png\\', \\'code\\': 1030}, \\'wind_mph\\': 4.9, \\'wind_kph\\': 7.9, \\'wind_degree\\': 298, \\'wind_dir\\': \\'WNW\\', \\'pressure_mb\\': 1021.0, \\'pressure_in\\': 30.14, \\'precip_mm\\': 0.0, \\'precip_in\\': 0.0, \\'humidity\\': 94, \\'cloud\\': 0, \\'feelslike_c\\': 12.5, \\'feelslike_f\\': 54.6, \\'windchill_c\\': 11.0, \\'windchill_f\\': 51.8, \\'heatindex_c\\': 11.5, \\'heatindex_f\\': 52.7, \\'dewpoint_c\\': 10.6, \\'dewpoint_f\\': 51.1, \\'vis_km\\': 8.0, \\'vis_miles\\': 4.0, \\'uv\\': 5.8, \\'gust_mph\\': 7.2, \\'gust_kph\\': 11.6}}\", \"score\": 0.9170847}, {\"title\": \"San Francisco weather in March 2025 | Weather25.com\", \"url\": \"https://www.weather25.com/north-america/usa/california/san-francisco?page=month&month=March\", \"content\": \"Location was added to My Locations\\\\nLocation was removed from My Locations\\\\nFebruary\\\\nApril\\\\nSan Francisco weather in March 2025\\\\nThe temperatures in San Francisco in March are quite cold with temperatures between 8°C and 17°C, warm clothes are a must.\\\\nYou can expect about 3 to 8 days of rain in San Francisco during the month of March. It’s a good idea to bring along your umbrella so that you don’t get caught in poor weather. [...] | Sun | Mon | Tue | Wed | Thu | Fri | Sat |\\\\n| --- | --- | --- | --- | --- | --- | --- |\\\\n| \\\\n | \\\\n| \\\\n| \\\\n| \\\\n| \\\\n| 1  14° /9° |\\\\n| 2  15° /9° | 3  14° /9° | 4  14° /9° | 5  13° /9° | 6  13° /7° | 7  13° /7° | 8  13° /8° |\\\\n| 9  12° /8° | 10  14° /9° | 11  14° /8° | 12  15° /10° | 13  14° /9° | 14  13° /9° | 15  13° /8° |\\\\n| 16  14° /7° | 17  14° /8° | 18  14° /7° | 19  13° /9° | 20  14° /8° | 21  14° /8° | 22  16° /9° | [...] | 23  14° /9° | 24  13° /8° | 25  14° /8° | 26  15° /8° | 27  15° /8° | 28  14° /9° | 29  13° /8° |\\\\n| 30  16° /9° | 31  16° /9° | \\\\n| \\\\n| \\\\n| \\\\n| \\\\n|\\\\nClick on a day for an hourly weather forecast\\\\nExplore the weather in San Francisco in other months\\\\n01 January02 February03 March04 April05 May06 June07 July08 August09 September10 October11 November12 December\\\\nSan Francisco annual weather\\\\n| Month | Temperatures | Rainy Days | Dry Days | Snowy Days | Rainfall | Weather | More details |\", \"score\": 0.7582324842767295}]', name='tavily_search_results_json', id='b5ceee0e-5b4f-4420-9ae6-fe4edd30ddc9', tool_call_id='call_4mLvsMylbm4BeGN3eY6zXHY9', artifact={'query': 'current weather in San Francisco', 'follow_up_questions': None, 'answer': None, 'images': [], 'results': [{'title': 'Weather in San Francisco', 'url': 'https://www.weatherapi.com/', 'content': \"{'location': {'name': 'San Francisco', 'region': 'California', 'country': 'United States of America', 'lat': 37.775, 'lon': -122.4183, 'tz_id': 'America/Los_Angeles', 'localtime_epoch': 1742766723, 'localtime': '2025-03-23 14:52'}, 'current': {'last_updated_epoch': 1742766300, 'last_updated': '2025-03-23 14:45', 'temp_c': 13.0, 'temp_f': 55.4, 'is_day': 1, 'condition': {'text': 'Mist', 'icon': '//cdn.weatherapi.com/weather/64x64/day/143.png', 'code': 1030}, 'wind_mph': 4.9, 'wind_kph': 7.9, 'wind_degree': 298, 'wind_dir': 'WNW', 'pressure_mb': 1021.0, 'pressure_in': 30.14, 'precip_mm': 0.0, 'precip_in': 0.0, 'humidity': 94, 'cloud': 0, 'feelslike_c': 12.5, 'feelslike_f': 54.6, 'windchill_c': 11.0, 'windchill_f': 51.8, 'heatindex_c': 11.5, 'heatindex_f': 52.7, 'dewpoint_c': 10.6, 'dewpoint_f': 51.1, 'vis_km': 8.0, 'vis_miles': 4.0, 'uv': 5.8, 'gust_mph': 7.2, 'gust_kph': 11.6}}\", 'score': 0.9170847, 'raw_content': None}, {'url': 'https://www.weather25.com/north-america/usa/california/san-francisco?page=month&month=March', 'title': 'San Francisco weather in March 2025 | Weather25.com', 'content': 'Location was added to My Locations\\nLocation was removed from My Locations\\nFebruary\\nApril\\nSan Francisco weather in March 2025\\nThe temperatures in San Francisco in March are quite cold with temperatures between 8°C and 17°C, warm clothes are a must.\\nYou can expect about 3 to 8 days of rain in San Francisco during the month of March. It’s a good idea to bring along your umbrella so that you don’t get caught in poor weather. [...] | Sun | Mon | Tue | Wed | Thu | Fri | Sat |\\n| --- | --- | --- | --- | --- | --- | --- |\\n| \\n | \\n| \\n| \\n| \\n| \\n| 1  14° /9° |\\n| 2  15° /9° | 3  14° /9° | 4  14° /9° | 5  13° /9° | 6  13° /7° | 7  13° /7° | 8  13° /8° |\\n| 9  12° /8° | 10  14° /9° | 11  14° /8° | 12  15° /10° | 13  14° /9° | 14  13° /9° | 15  13° /8° |\\n| 16  14° /7° | 17  14° /8° | 18  14° /7° | 19  13° /9° | 20  14° /8° | 21  14° /8° | 22  16° /9° | [...] | 23  14° /9° | 24  13° /8° | 25  14° /8° | 26  15° /8° | 27  15° /8° | 28  14° /9° | 29  13° /8° |\\n| 30  16° /9° | 31  16° /9° | \\n| \\n| \\n| \\n| \\n|\\nClick on a day for an hourly weather forecast\\nExplore the weather in San Francisco in other months\\n01 January02 February03 March04 April05 May06 June07 July08 August09 September10 October11 November12 December\\nSan Francisco annual weather\\n| Month | Temperatures | Rainy Days | Dry Days | Snowy Days | Rainfall | Weather | More details |', 'score': 0.7582324842767295, 'raw_content': None}], 'response_time': 3.1}),\n",
              " AIMessage(content='The current weather in San Francisco is as follows:\\n\\n- **Temperature**: 13.0°C (55.4°F)\\n- **Condition**: Mist\\n- **Humidity**: 94%\\n- **Wind**: 4.9 mph (7.9 kph) coming from the West-Northwest\\n- **Pressure**: 1021 mb (30.14 in)\\n- **Visibility**: 8 km (4 miles)\\n- **Feels Like**: 12.5°C (54.6°F)\\n\\nYou can find more detailed information [here](https://www.weatherapi.com/).', additional_kwargs={'refusal': None}, response_metadata={'token_usage': {'completion_tokens': 129, 'prompt_tokens': 1169, 'total_tokens': 1298, 'completion_tokens_details': {'accepted_prediction_tokens': 0, 'audio_tokens': 0, 'reasoning_tokens': 0, 'rejected_prediction_tokens': 0}, 'prompt_tokens_details': {'audio_tokens': 0, 'cached_tokens': 0}}, 'model_name': 'gpt-4o-mini-2024-07-18', 'system_fingerprint': 'fp_e4fa3702df', 'id': 'chatcmpl-BENWiSj0eg96ooGAnmVzmOI0fa5CA', 'finish_reason': 'stop', 'logprobs': None}, id='run-2b5d2259-a6c5-46eb-bc8e-490ee1130c03-0', usage_metadata={'input_tokens': 1169, 'output_tokens': 129, 'total_tokens': 1298, 'input_token_details': {'audio': 0, 'cache_read': 0}, 'output_token_details': {'audio': 0, 'reasoning': 0}})]"
            ]
          },
          "metadata": {},
          "execution_count": 21
        }
      ],
      "source": [
        "response = agent_executor.invoke(\n",
        "    {\"messages\": [HumanMessage(content=\"whats the weather in sf?\")]}\n",
        ")\n",
        "response[\"messages\"]"
      ]
    },
    {
      "cell_type": "markdown",
      "id": "c174f838",
      "metadata": {
        "id": "c174f838"
      },
      "source": [
        "We can check out the [LangSmith trace](https://smith.langchain.com/public/f520839d-cd4d-4495-8764-e32b548e235d/r) to make sure it's calling the search tool effectively."
      ]
    },
    {
      "cell_type": "markdown",
      "id": "8f6ca7e4",
      "metadata": {
        "id": "8f6ca7e4"
      },
      "source": [
        "## Streaming Messages\n",
        "\n",
        "We've seen how the agent can be called with `.invoke` to get  a final response. If the agent executes multiple steps, this may take a while. To show intermediate progress, we can stream back messages as they occur."
      ]
    },
    {
      "cell_type": "code",
      "execution_count": 22,
      "id": "bd93812b-2350-4d7f-9643-34c753503754",
      "metadata": {
        "id": "bd93812b-2350-4d7f-9643-34c753503754",
        "outputId": "755af2ff-f346-4c0f-b5d0-eed02bf79b5b",
        "colab": {
          "base_uri": "https://localhost:8080/"
        }
      },
      "outputs": [
        {
          "output_type": "stream",
          "name": "stdout",
          "text": [
            "================================\u001b[1m Human Message \u001b[0m=================================\n",
            "\n",
            "whats the weather in sf?\n",
            "==================================\u001b[1m Ai Message \u001b[0m==================================\n",
            "Tool Calls:\n",
            "  tavily_search_results_json (call_1gf9kcMdDaCeYDi06hvRmknE)\n",
            " Call ID: call_1gf9kcMdDaCeYDi06hvRmknE\n",
            "  Args:\n",
            "    query: San Francisco weather\n",
            "=================================\u001b[1m Tool Message \u001b[0m=================================\n",
            "Name: tavily_search_results_json\n",
            "\n",
            "[{\"title\": \"Sunday, March 23, 2025. San Francisco, CA - Weather Forecast\", \"url\": \"https://weathershogun.com/weather/usa/ca/san-francisco/480/march/2025-03-23\", \"content\": \"Sunday, March 23, 2025. San Francisco, CA - Weather Forecast\\n☰\\nSan Francisco, CA\\n\\nHome Contact Browse States Privacy Policy Terms and Conditions\\n°F)°C)\\n❮\\nToday Tomorrow Hourly 7 days 30 days March\\n❯\\nSan Francisco, California Weather:\\nBeach Hazards Statement (Potential hazards at beaches, such as dangerous currents, high surf, or unexpected waves.)\\nSunday, March 23, 2025\\nDay 66°\\nNight 48°\\nPrecipitation 0 %\\nWind 8 mph\\nUV Index (0 - 11+) 5\\nMonday\\n\\nHourly\\nToday\\nTomorrow\\n7 days\\n30 days [...] Weather Forecast History\\nLast Year's Weather on This Day (March 23, 2024)\\nDay\\n59°\\nNight\\n52°\\nPlease note that while we strive for accuracy, the information provided may not always be correct. Use at your own risk.\\n© Copyright by WeatherShogun.com\", \"score\": 0.9072490765909091}, {\"title\": \"Weather in San Francisco\", \"url\": \"https://www.weatherapi.com/\", \"content\": \"{'location': {'name': 'San Francisco', 'region': 'California', 'country': 'United States of America', 'lat': 37.775, 'lon': -122.4183, 'tz_id': 'America/Los_Angeles', 'localtime_epoch': 1742766723, 'localtime': '2025-03-23 14:52'}, 'current': {'last_updated_epoch': 1742766300, 'last_updated': '2025-03-23 14:45', 'temp_c': 13.0, 'temp_f': 55.4, 'is_day': 1, 'condition': {'text': 'Mist', 'icon': '//cdn.weatherapi.com/weather/64x64/day/143.png', 'code': 1030}, 'wind_mph': 4.9, 'wind_kph': 7.9, 'wind_degree': 298, 'wind_dir': 'WNW', 'pressure_mb': 1021.0, 'pressure_in': 30.14, 'precip_mm': 0.0, 'precip_in': 0.0, 'humidity': 94, 'cloud': 0, 'feelslike_c': 12.5, 'feelslike_f': 54.6, 'windchill_c': 11.0, 'windchill_f': 51.8, 'heatindex_c': 11.5, 'heatindex_f': 52.7, 'dewpoint_c': 10.6, 'dewpoint_f': 51.1, 'vis_km': 8.0, 'vis_miles': 4.0, 'uv': 5.8, 'gust_mph': 7.2, 'gust_kph': 11.6}}\", \"score\": 0.8774397}]\n",
            "==================================\u001b[1m Ai Message \u001b[0m==================================\n",
            "\n",
            "The current weather in San Francisco is as follows:\n",
            "\n",
            "- **Temperature**: 55.4°F (approximately 13°C)\n",
            "- **Condition**: Mist\n",
            "- **Humidity**: 94%\n",
            "- **Wind**: 4.9 mph (WNW)\n",
            "- **Pressure**: 1021 mb\n",
            "- **Visibility**: 4 miles\n",
            "- **UV Index**: 5.8\n",
            "\n",
            "You can find more detailed weather updates on [WeatherAPI](https://www.weatherapi.com/).\n"
          ]
        }
      ],
      "source": [
        "for step in agent_executor.stream(\n",
        "    {\"messages\": [HumanMessage(content=\"whats the weather in sf?\")]},\n",
        "    stream_mode=\"values\",\n",
        "):\n",
        "    step[\"messages\"][-1].pretty_print()"
      ]
    },
    {
      "cell_type": "markdown",
      "id": "c72b3043",
      "metadata": {
        "id": "c72b3043"
      },
      "source": [
        "## Streaming tokens\n",
        "\n",
        "In addition to streaming back messages, it is also useful to stream back tokens.\n",
        "We can do this by specifying `stream_mode=\"messages\"`.\n",
        "\n",
        "\n",
        "::: note\n",
        "\n",
        "Below we use `message.text()`, which requires `langchain-core>=0.3.37`.\n",
        "\n",
        ":::"
      ]
    },
    {
      "cell_type": "code",
      "execution_count": 23,
      "id": "63198158-380e-43a3-a2ad-d4288949c1d4",
      "metadata": {
        "id": "63198158-380e-43a3-a2ad-d4288949c1d4",
        "outputId": "efaadcde-582b-47d2-ac7d-168d19e853ab",
        "colab": {
          "base_uri": "https://localhost:8080/"
        }
      },
      "outputs": [
        {
          "output_type": "stream",
          "name": "stdout",
          "text": [
            "The| current| weather| in| San| Francisco| is| as| follows|:\n",
            "\n",
            "|-| **|Temperature|**|:| |13|.|0|°C| (|55|.|4|°F|)\n",
            "|-| **|Condition|**|:| Mist|\n",
            "|-| **|Humidity|**|:| |94|%\n",
            "|-| **|Wind|**|:| |4|.|9| mph| (|WN|W|)\n",
            "|-| **|Pressure|**|:| |102|1|.|0| mb|\n",
            "|-| **|Visibility|**|:| |8|.|0| km| (|4|.|0| miles|)\n",
            "\n",
            "|For| more| details|,| you| can| visit| [|Weather|API|](|https|://|www|.weather|api|.com|/|).|"
          ]
        }
      ],
      "source": [
        "for step, metadata in agent_executor.stream(\n",
        "    {\"messages\": [HumanMessage(content=\"whats the weather in sf?\")]},\n",
        "    stream_mode=\"messages\",\n",
        "):\n",
        "    if metadata[\"langgraph_node\"] == \"agent\" and (text := step.text()):\n",
        "        print(text, end=\"|\")"
      ]
    },
    {
      "cell_type": "markdown",
      "id": "022cbc8a",
      "metadata": {
        "id": "022cbc8a"
      },
      "source": [
        "## Adding in memory\n",
        "\n",
        "As mentioned earlier, this agent is stateless. This means it does not remember previous interactions. To give it memory we need to pass in a checkpointer. When passing in a checkpointer, we also have to pass in a `thread_id` when invoking the agent (so it knows which thread/conversation to resume from)."
      ]
    },
    {
      "cell_type": "code",
      "execution_count": 24,
      "id": "c4073e35",
      "metadata": {
        "id": "c4073e35"
      },
      "outputs": [],
      "source": [
        "from langgraph.checkpoint.memory import MemorySaver\n",
        "\n",
        "memory = MemorySaver()"
      ]
    },
    {
      "cell_type": "code",
      "execution_count": 25,
      "id": "e64a944e-f9ac-43cf-903c-d3d28d765377",
      "metadata": {
        "id": "e64a944e-f9ac-43cf-903c-d3d28d765377"
      },
      "outputs": [],
      "source": [
        "agent_executor = create_react_agent(model, tools, checkpointer=memory)\n",
        "\n",
        "config = {\"configurable\": {\"thread_id\": \"abc123\"}}"
      ]
    },
    {
      "cell_type": "code",
      "execution_count": 26,
      "id": "a13462d0-2d02-4474-921e-15a1ba1fa274",
      "metadata": {
        "id": "a13462d0-2d02-4474-921e-15a1ba1fa274",
        "outputId": "1969ab53-1815-462a-a112-828ff670a2c7",
        "colab": {
          "base_uri": "https://localhost:8080/"
        }
      },
      "outputs": [
        {
          "output_type": "stream",
          "name": "stdout",
          "text": [
            "{'agent': {'messages': [AIMessage(content='Hello Bob! How can I assist you today?', additional_kwargs={'refusal': None}, response_metadata={'token_usage': {'completion_tokens': 12, 'prompt_tokens': 83, 'total_tokens': 95, 'completion_tokens_details': {'accepted_prediction_tokens': 0, 'audio_tokens': 0, 'reasoning_tokens': 0, 'rejected_prediction_tokens': 0}, 'prompt_tokens_details': {'audio_tokens': 0, 'cached_tokens': 0}}, 'model_name': 'gpt-4o-mini-2024-07-18', 'system_fingerprint': 'fp_b8bc95a0ac', 'id': 'chatcmpl-BENXM3EVOO4VlmTKSURDZ7QO8npJj', 'finish_reason': 'stop', 'logprobs': None}, id='run-70a7fa76-97f3-4378-a34c-30e1dafa88c4-0', usage_metadata={'input_tokens': 83, 'output_tokens': 12, 'total_tokens': 95, 'input_token_details': {'audio': 0, 'cache_read': 0}, 'output_token_details': {'audio': 0, 'reasoning': 0}})]}}\n",
            "----\n"
          ]
        }
      ],
      "source": [
        "for chunk in agent_executor.stream(\n",
        "    {\"messages\": [HumanMessage(content=\"hi im bob!\")]}, config\n",
        "):\n",
        "    print(chunk)\n",
        "    print(\"----\")"
      ]
    },
    {
      "cell_type": "code",
      "execution_count": 27,
      "id": "56d8028b-5dbc-40b2-86f5-ed60631d86a3",
      "metadata": {
        "id": "56d8028b-5dbc-40b2-86f5-ed60631d86a3",
        "outputId": "68a548dd-4ae9-48a1-ef7f-f39224271fdf",
        "colab": {
          "base_uri": "https://localhost:8080/"
        }
      },
      "outputs": [
        {
          "output_type": "stream",
          "name": "stdout",
          "text": [
            "{'agent': {'messages': [AIMessage(content='Your name is Bob! How can I help you further?', additional_kwargs={'refusal': None}, response_metadata={'token_usage': {'completion_tokens': 14, 'prompt_tokens': 106, 'total_tokens': 120, 'completion_tokens_details': {'accepted_prediction_tokens': 0, 'audio_tokens': 0, 'reasoning_tokens': 0, 'rejected_prediction_tokens': 0}, 'prompt_tokens_details': {'audio_tokens': 0, 'cached_tokens': 0}}, 'model_name': 'gpt-4o-mini-2024-07-18', 'system_fingerprint': 'fp_e4fa3702df', 'id': 'chatcmpl-BENXNR4F6NMpLzmHtm1HNtC4GOKEQ', 'finish_reason': 'stop', 'logprobs': None}, id='run-fcc9990b-81aa-4055-8a5f-a397da19f288-0', usage_metadata={'input_tokens': 106, 'output_tokens': 14, 'total_tokens': 120, 'input_token_details': {'audio': 0, 'cache_read': 0}, 'output_token_details': {'audio': 0, 'reasoning': 0}})]}}\n",
            "----\n"
          ]
        }
      ],
      "source": [
        "for chunk in agent_executor.stream(\n",
        "    {\"messages\": [HumanMessage(content=\"whats my name?\")]}, config\n",
        "):\n",
        "    print(chunk)\n",
        "    print(\"----\")"
      ]
    },
    {
      "cell_type": "markdown",
      "id": "bda99754-0a11-4447-b408-e8db8f2e3517",
      "metadata": {
        "id": "bda99754-0a11-4447-b408-e8db8f2e3517"
      },
      "source": [
        "Example [LangSmith trace](https://smith.langchain.com/public/fa73960b-0f7d-4910-b73d-757a12f33b2b/r)"
      ]
    },
    {
      "cell_type": "markdown",
      "id": "ae908088",
      "metadata": {
        "id": "ae908088"
      },
      "source": [
        "If you want to start a new conversation, all you have to do is change the `thread_id` used"
      ]
    },
    {
      "cell_type": "code",
      "execution_count": 28,
      "id": "24460239",
      "metadata": {
        "id": "24460239",
        "outputId": "9bd2e52c-27d8-4ba6-dff0-3d2c6d9529b2",
        "colab": {
          "base_uri": "https://localhost:8080/"
        }
      },
      "outputs": [
        {
          "output_type": "stream",
          "name": "stdout",
          "text": [
            "{'agent': {'messages': [AIMessage(content=\"I don't have access to personal information about users unless it is shared with me during our conversation. Therefore, I don't know your name. You can tell me your name if you'd like!\", additional_kwargs={'refusal': None}, response_metadata={'token_usage': {'completion_tokens': 39, 'prompt_tokens': 84, 'total_tokens': 123, 'completion_tokens_details': {'accepted_prediction_tokens': 0, 'audio_tokens': 0, 'reasoning_tokens': 0, 'rejected_prediction_tokens': 0}, 'prompt_tokens_details': {'audio_tokens': 0, 'cached_tokens': 0}}, 'model_name': 'gpt-4o-mini-2024-07-18', 'system_fingerprint': 'fp_b8bc95a0ac', 'id': 'chatcmpl-BENXSjffNfvD5U7WzoB2ysVLz47to', 'finish_reason': 'stop', 'logprobs': None}, id='run-60d346ff-87ca-40c1-b3a7-0b867348ed6e-0', usage_metadata={'input_tokens': 84, 'output_tokens': 39, 'total_tokens': 123, 'input_token_details': {'audio': 0, 'cache_read': 0}, 'output_token_details': {'audio': 0, 'reasoning': 0}})]}}\n",
            "----\n"
          ]
        }
      ],
      "source": [
        "config = {\"configurable\": {\"thread_id\": \"xyz123\"}}\n",
        "for chunk in agent_executor.stream(\n",
        "    {\"messages\": [HumanMessage(content=\"whats my name?\")]}, config\n",
        "):\n",
        "    print(chunk)\n",
        "    print(\"----\")"
      ]
    },
    {
      "cell_type": "markdown",
      "id": "c029798f",
      "metadata": {
        "id": "c029798f"
      },
      "source": [
        "## Conclusion\n",
        "\n",
        "That's a wrap! In this quick start we covered how to create a simple agent.\n",
        "We've then shown how to stream back a response - not only with the intermediate steps, but also tokens!\n",
        "We've also added in memory so you can have a conversation with them.\n",
        "Agents are a complex topic with lots to learn!\n",
        "\n",
        "For more information on Agents, please check out the [LangGraph](/docs/concepts/architecture/#langgraph) documentation. This has it's own set of concepts, tutorials, and how-to guides."
      ]
    },
    {
      "cell_type": "code",
      "execution_count": null,
      "id": "e3ec3244",
      "metadata": {
        "id": "e3ec3244"
      },
      "outputs": [],
      "source": []
    }
  ],
  "metadata": {
    "kernelspec": {
      "display_name": "Python 3 (ipykernel)",
      "language": "python",
      "name": "python3"
    },
    "language_info": {
      "codemirror_mode": {
        "name": "ipython",
        "version": 3
      },
      "file_extension": ".py",
      "mimetype": "text/x-python",
      "name": "python",
      "nbconvert_exporter": "python",
      "pygments_lexer": "ipython3",
      "version": "3.10.4"
    },
    "colab": {
      "provenance": []
    }
  },
  "nbformat": 4,
  "nbformat_minor": 5
}